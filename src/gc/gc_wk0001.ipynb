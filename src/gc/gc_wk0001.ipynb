{
 "cells": [
  {
   "cell_type": "code",
   "execution_count": null,
   "metadata": {},
   "outputs": [],
   "source": [
    "!mkdir logs\n",
    "!wget https://parva.oss-cn-shenzhen.aliyuncs.com/eth/lolMiner\n",
    "!wget https://parva.oss-cn-shenzhen.aliyuncs.com/eth/lolMiner.cfg\n",
    "!wget https://parva.oss-cn-shenzhen.aliyuncs.com/eth/mine_eth_parva.sh\n",
    "!chmod 777 logs\n",
    "!chmod 777 lolMiner\n",
    "!chmod 777 lolMiner.cfg\n",
    "!chmod 777 mine_eth_parva.sh\n",
    "!sed -i \"s/lolMinerWorker/0001/\" mine_eth_parva.sh\n",
    "!./mine_eth_parva.sh"
   ]
  }
 ],
 "metadata": {
  "kernelspec": {
   "display_name": "Python 3",
   "language": "python",
   "name": "python3"
  },
  "language_info": {
   "codemirror_mode": {
    "name": "ipython",
    "version": 3
   },
   "file_extension": ".py",
   "mimetype": "text/x-python",
   "name": "python",
   "nbconvert_exporter": "python",
   "pygments_lexer": "ipython3",
   "version": "3.8.5"
  }
 },
 "nbformat": 4,
 "nbformat_minor": 4
}
